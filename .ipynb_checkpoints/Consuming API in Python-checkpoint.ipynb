{
 "cells": [
  {
   "cell_type": "markdown",
   "metadata": {},
   "source": [
    "# Consuming Api in Python\n",
    "\n",
    "### API can be defined as an entry point to access computing resources behind a server.\n",
    "\n",
    "### API that will be used :\n",
    "_retrieveTemp_ = get temperatire stored in database <br>\n",
    "_createTemp_ = store temperature collected into database\n",
    "\n",
    "### Server domain:\n",
    "_http://localhost/iot/iot.php_\n",
    "\n",
    "##### Helper tool :\n",
    "_http://jsonviewer.stack.hu/_"
   ]
  },
  {
   "cell_type": "code",
   "execution_count": 13,
   "metadata": {},
   "outputs": [
    {
     "name": "stdout",
     "output_type": "stream",
     "text": [
      "{'status': '200', 'row': 64, 'result': [{'temp': '28', 'datetime': '1338'}, {'temp': '28', 'datetime': '1338'}, {'temp': '28', 'datetime': '1338'}, {'temp': '29', 'datetime': '1338'}, {'temp': '30', 'datetime': '1338'}, {'temp': '30', 'datetime': '1339'}, {'temp': '30', 'datetime': '1339'}, {'temp': '31', 'datetime': '1339'}, {'temp': '28', 'datetime': '1344'}, {'temp': '28', 'datetime': '1344'}, {'temp': '29', 'datetime': '1344'}, {'temp': '29', 'datetime': '1344'}, {'temp': '29', 'datetime': '1344'}, {'temp': '30', 'datetime': '1344'}, {'temp': '30', 'datetime': '1344'}, {'temp': '30', 'datetime': '1344'}, {'temp': '28', 'datetime': '1349'}, {'temp': '28', 'datetime': '1349'}, {'temp': '28', 'datetime': '1349'}, {'temp': '28', 'datetime': '1349'}, {'temp': '28', 'datetime': '1349'}, {'temp': '29', 'datetime': '1349'}, {'temp': '30', 'datetime': '1349'}, {'temp': '31', 'datetime': '1349'}, {'temp': '32', 'datetime': '1349'}, {'temp': '32', 'datetime': '1349'}, {'temp': '32', 'datetime': '1349'}, {'temp': '32', 'datetime': '1350'}, {'temp': '29', 'datetime': '1351'}, {'temp': '29', 'datetime': '1351'}, {'temp': '29', 'datetime': '1351'}, {'temp': '29', 'datetime': '1351'}, {'temp': '29', 'datetime': '1351'}, {'temp': '29', 'datetime': '1351'}, {'temp': '29', 'datetime': '1351'}, {'temp': '29', 'datetime': '1351'}, {'temp': '29', 'datetime': '1351'}, {'temp': '29', 'datetime': '1351'}, {'temp': '29', 'datetime': '1351'}, {'temp': '29', 'datetime': '1352'}, {'temp': '29', 'datetime': '1352'}, {'temp': '29', 'datetime': '1352'}, {'temp': '29', 'datetime': '1352'}, {'temp': '29', 'datetime': '1352'}, {'temp': '29', 'datetime': '1352'}, {'temp': '28', 'datetime': '1355'}, {'temp': '28', 'datetime': '1355'}, {'temp': '28', 'datetime': '1355'}, {'temp': '29', 'datetime': '1355'}, {'temp': '30', 'datetime': '1355'}, {'temp': '30', 'datetime': '1355'}, {'temp': '31', 'datetime': '1355'}, {'temp': '32', 'datetime': '1355'}, {'temp': '32', 'datetime': '1355'}, {'temp': '32', 'datetime': '1355'}, {'temp': '33', 'datetime': '1355'}, {'temp': '33', 'datetime': '1355'}, {'temp': '34', 'datetime': '1355'}, {'temp': '34', 'datetime': '1355'}, {'temp': '35', 'datetime': '1355'}, {'temp': '35', 'datetime': '1355'}, {'temp': '36', 'datetime': '1356'}, {'temp': '36', 'datetime': '1356'}, {'temp': '36', 'datetime': '1356'}]}\n"
     ]
    }
   ],
   "source": [
    "# get temperature data from server\n",
    "import requests\n",
    "import json\n",
    "\n",
    "url = 'http://localhost/iot/iot.php?action=retrieveTemp'\n",
    "\n",
    "data = {}\n",
    "\n",
    "response = requests.get(url, data=data)\n",
    "\n",
    "print(json.loads(response.content.decode('utf-8')))"
   ]
  },
  {
   "cell_type": "code",
   "execution_count": 20,
   "metadata": {},
   "outputs": [
    {
     "data": {
      "image/png": "[encoded data removed]",
      "text/plain": [
       "<matplotlib.figure.Figure at 0x21efe6ab9b0>"
      ]
     },
     "metadata": {},
     "output_type": "display_data"
    }
   ],
   "source": [
    "#plot the data received into table\n",
    "import requests\n",
    "import json\n",
    "import matplotlib.pyplot as plt\n",
    "\n",
    "url = 'http://localhost/iot/iot.php?action=retrieveTemp'\n",
    "\n",
    "data = {}\n",
    "\n",
    "response = requests.get(url, data=data)\n",
    "\n",
    "ret = json.loads(response.content.decode('utf-8'))\n",
    "\n",
    "temp = []\n",
    "date_time = []\n",
    "\n",
    "for element in ret['result']:\n",
    "    temp.append(element['temp'])\n",
    "    date_time.append(element['datetime'])\n",
    "    \n",
    "plt.xlabel('Time (24 hour)')\n",
    "plt.ylabel('Temparature')\n",
    "plt.title(\"The chart of temperature over time\")\n",
    "plt.plot(date_time, temp)\n",
    "\n",
    "plt.show()"
   ]
  },
  {
   "cell_type": "code",
   "execution_count": null,
   "metadata": {},
   "outputs": [],
   "source": [
    "# getting temperature from sensehat and upload to database\n",
    "import requests\n",
    "import json\n",
    "import time\n",
    "from sense_hat import SenseHat\n",
    "\n",
    "sense = SenseHat()\n",
    "\n",
    "red = (255, 0, 0)\n",
    "empty = (0, 0, 0)\n",
    "\n",
    "url = 'http://localhost/iot/iot.php?action=createTemp'\n",
    "\n",
    "while True:\n",
    "    temp = sense.temp\n",
    "    print('Current temperature : ' + str(temp))\n",
    "    sense.set_pixels([red if i < temp else empty for i in range(64)])\n",
    "    response = requests.get(url, data={'temp' : temp})\n",
    "    print(json.loads(response.content.decode('utf-8')))\n",
    "    time.sleep(10)# Delay for 1 minute (60 seconds)  "
   ]
  }
 ],
 "metadata": {
  "kernelspec": {
   "display_name": "Python 3",
   "language": "python",
   "name": "python3"
  },
  "language_info": {
   "codemirror_mode": {
    "name": "ipython",
    "version": 3
   },
   "file_extension": ".py",
   "mimetype": "text/x-python",
   "name": "python",
   "nbconvert_exporter": "python",
   "pygments_lexer": "ipython3",
   "version": "3.6.4"
  }
 },
 "nbformat": 4,
 "nbformat_minor": 2
}
